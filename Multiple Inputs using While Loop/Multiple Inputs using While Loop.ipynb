{
 "cells": [
  {
   "cell_type": "markdown",
   "id": "3a15206a",
   "metadata": {},
   "source": [
    "### Multiple Inputs using While Loop"
   ]
  },
  {
   "cell_type": "code",
   "execution_count": 1,
   "id": "0275ae32",
   "metadata": {},
   "outputs": [
    {
     "name": "stdout",
     "output_type": "stream",
     "text": [
      "Enter Text: Hi\n",
      "Hi\n",
      "Enter Text: How are you\n",
      "How are you\n",
      "Enter Text: I'm good and you?\n",
      "I'm good and you?\n",
      "Enter Text: stop\n"
     ]
    }
   ],
   "source": [
    "while True:\n",
    "    reply = input(\"Enter Text: \")\n",
    "    if reply == 'stop': break\n",
    "    print(reply)"
   ]
  }
 ],
 "metadata": {
  "kernelspec": {
   "display_name": "Python 3 (ipykernel)",
   "language": "python",
   "name": "python3"
  },
  "language_info": {
   "codemirror_mode": {
    "name": "ipython",
    "version": 3
   },
   "file_extension": ".py",
   "mimetype": "text/x-python",
   "name": "python",
   "nbconvert_exporter": "python",
   "pygments_lexer": "ipython3",
   "version": "3.9.13"
  }
 },
 "nbformat": 4,
 "nbformat_minor": 5
}

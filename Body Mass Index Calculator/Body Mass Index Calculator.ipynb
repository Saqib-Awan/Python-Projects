{
 "cells": [
  {
   "cell_type": "markdown",
   "id": "c41475bd",
   "metadata": {},
   "source": [
    "### Body Mass Index Calculator"
   ]
  },
  {
   "cell_type": "code",
   "execution_count": 1,
   "id": "bda46a74",
   "metadata": {},
   "outputs": [
    {
     "name": "stdout",
     "output_type": "stream",
     "text": [
      "Enter your height in centimeters: 165\n",
      "Enter your Weight in Kg: 53\n",
      "Your Body Mass Index is: 19.467401285583104\n",
      "You are Healthy\n"
     ]
    }
   ],
   "source": [
    "Height = float(input(\"Enter your height in centimeters: \"))\n",
    "Weight = float(input(\"Enter your Weight in Kg: \"))\n",
    "Height = Height / 100\n",
    "BMI = Weight / (Height * Height)\n",
    "print(\"Your Body Mass Index is:\", BMI)\n",
    "\n",
    "if BMI > 0:\n",
    "    if BMI <= 16:\n",
    "        print(\"You are severely underweight\")\n",
    "    elif BMI <= 18.5:\n",
    "        print(\"You are underweight\")\n",
    "    elif BMI <= 25:\n",
    "        print(\"You are Healthy\")\n",
    "    elif BMI <= 30:\n",
    "        print(\"You are overweight\")\n",
    "    else:\n",
    "        print(\"You are severely overweight\")\n",
    "else:\n",
    "    print(\"Enter valid details\")"
   ]
  }
 ],
 "metadata": {
  "kernelspec": {
   "display_name": "Python 3 (ipykernel)",
   "language": "python",
   "name": "python3"
  },
  "language_info": {
   "codemirror_mode": {
    "name": "ipython",
    "version": 3
   },
   "file_extension": ".py",
   "mimetype": "text/x-python",
   "name": "python",
   "nbconvert_exporter": "python",
   "pygments_lexer": "ipython3",
   "version": "3.9.13"
  }
 },
 "nbformat": 4,
 "nbformat_minor": 5
}

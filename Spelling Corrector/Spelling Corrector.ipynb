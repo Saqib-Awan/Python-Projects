{
 "cells": [
  {
   "cell_type": "markdown",
   "id": "73d7b18d",
   "metadata": {},
   "source": [
    "### Spelling Corrector"
   ]
  },
  {
   "cell_type": "code",
   "execution_count": 5,
   "id": "0e1d509f",
   "metadata": {},
   "outputs": [
    {
     "name": "stdout",
     "output_type": "stream",
     "text": [
      "Enter words separated by commas: Data Scence, Machne Lerning\n",
      "Wrong words: Data Scence  Machne Lerning\n",
      "Corrected Words are: Data science machine learning\n"
     ]
    }
   ],
   "source": [
    "from spellchecker import SpellChecker\n",
    "\n",
    "# Initialize the spell checker\n",
    "spell = SpellChecker()\n",
    "\n",
    "# Function to correct spelling errors\n",
    "def correct_spelling(text):\n",
    "    words = text.split()\n",
    "    corrected_words = [spell.candidates(word) for word in words]\n",
    "    corrected_text = ' '.join([spell.candidates(word).pop() for word in words])\n",
    "    return corrected_text\n",
    "\n",
    "# Get input from user\n",
    "user_input = input(\"Enter words separated by commas: \")\n",
    "user_input = user_input.replace(',', ' ')  # Replace commas with spaces for better splitting\n",
    "\n",
    "# Display the wrong and corrected words\n",
    "print(\"Wrong words:\", user_input)\n",
    "print(\"Corrected Words are:\", correct_spelling(user_input))\n"
   ]
  }
 ],
 "metadata": {
  "kernelspec": {
   "display_name": "Python 3 (ipykernel)",
   "language": "python",
   "name": "python3"
  },
  "language_info": {
   "codemirror_mode": {
    "name": "ipython",
    "version": 3
   },
   "file_extension": ".py",
   "mimetype": "text/x-python",
   "name": "python",
   "nbconvert_exporter": "python",
   "pygments_lexer": "ipython3",
   "version": "3.9.13"
  }
 },
 "nbformat": 4,
 "nbformat_minor": 5
}

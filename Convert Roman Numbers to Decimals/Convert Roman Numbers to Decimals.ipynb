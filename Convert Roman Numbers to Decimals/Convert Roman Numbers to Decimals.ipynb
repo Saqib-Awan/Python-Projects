{
 "cells": [
  {
   "cell_type": "markdown",
   "id": "e117e5d3",
   "metadata": {},
   "source": [
    "### Convert Roman Numbers to Decimals"
   ]
  },
  {
   "cell_type": "code",
   "execution_count": 1,
   "id": "290256cb",
   "metadata": {},
   "outputs": [
    {
     "name": "stdout",
     "output_type": "stream",
     "text": [
      "Enter a Roman numeral: MLXVCDX\n",
      "The decimal value of MLXVCDX is 1465.\n"
     ]
    }
   ],
   "source": [
    "tallies = {\n",
    "    'I': 1,\n",
    "    'V': 5,\n",
    "    'X': 10,\n",
    "    'L': 50,\n",
    "    'C': 100,\n",
    "    'D': 500,\n",
    "    'M': 1000,\n",
    "}\n",
    "\n",
    "def RomanNumeralToDecimal(romanNumeral):\n",
    "    sum = 0\n",
    "    for i in range(len(romanNumeral) - 1):\n",
    "        left = romanNumeral[i]\n",
    "        right = romanNumeral[i + 1]\n",
    "        if tallies[left] < tallies[right]:\n",
    "            sum -= tallies[left]\n",
    "        else:\n",
    "            sum += tallies[left]\n",
    "    sum += tallies[romanNumeral[-1]]\n",
    "    return sum\n",
    "\n",
    "# Taking input from the user\n",
    "roman_numeral = input(\"Enter a Roman numeral: \")\n",
    "\n",
    "# Convert to decimal and print the result\n",
    "decimal_value = RomanNumeralToDecimal(roman_numeral.upper())\n",
    "print(f\"The decimal value of {roman_numeral.upper()} is {decimal_value}.\")\n"
   ]
  }
 ],
 "metadata": {
  "kernelspec": {
   "display_name": "Python 3 (ipykernel)",
   "language": "python",
   "name": "python3"
  },
  "language_info": {
   "codemirror_mode": {
    "name": "ipython",
    "version": 3
   },
   "file_extension": ".py",
   "mimetype": "text/x-python",
   "name": "python",
   "nbconvert_exporter": "python",
   "pygments_lexer": "ipython3",
   "version": "3.9.13"
  }
 },
 "nbformat": 4,
 "nbformat_minor": 5
}

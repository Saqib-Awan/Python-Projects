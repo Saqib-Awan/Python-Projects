{
 "cells": [
  {
   "cell_type": "markdown",
   "id": "70e46534",
   "metadata": {},
   "source": [
    "### Print Colored Text "
   ]
  },
  {
   "cell_type": "code",
   "execution_count": 1,
   "id": "b1a9066b",
   "metadata": {},
   "outputs": [
    {
     "data": {
      "text/html": [
       "<span style='color: blue; background-color: yellow;'>Hi, My name is Muhammad Saqib. </span><span style='color: yellow; background-color: blue;'>I am Learning Deep Learning .</span>"
      ],
      "text/plain": [
       "<IPython.core.display.HTML object>"
      ]
     },
     "execution_count": 1,
     "metadata": {},
     "output_type": "execute_result"
    }
   ],
   "source": [
    "from IPython.display import HTML\n",
    "\n",
    "# Function to create colored text\n",
    "def colored_text(text, color, bgcolor=None):\n",
    "    style = f\"color: {color};\"\n",
    "    if bgcolor:\n",
    "        style += f\" background-color: {bgcolor};\"\n",
    "    return f\"<span style='{style}'>{text}</span>\"\n",
    "\n",
    "# Displaying colored text\n",
    "HTML(colored_text(\"Hi, My name is Muhammad Saqib. \", \"blue\", \"yellow\") + \n",
    "     colored_text(\"I am Learning Deep Learning .\", \"yellow\", \"blue\"))\n"
   ]
  }
 ],
 "metadata": {
  "kernelspec": {
   "display_name": "Python 3 (ipykernel)",
   "language": "python",
   "name": "python3"
  },
  "language_info": {
   "codemirror_mode": {
    "name": "ipython",
    "version": 3
   },
   "file_extension": ".py",
   "mimetype": "text/x-python",
   "name": "python",
   "nbconvert_exporter": "python",
   "pygments_lexer": "ipython3",
   "version": "3.9.13"
  }
 },
 "nbformat": 4,
 "nbformat_minor": 5
}
